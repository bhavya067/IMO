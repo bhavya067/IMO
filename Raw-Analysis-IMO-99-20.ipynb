{
 "cells": [
  {
   "cell_type": "markdown",
   "metadata": {},
   "source": [
    "# ___Raw Analysis International Meteor Organization___\n",
    "# ___1999-2020___\n",
    "---\n",
    "---\n"
   ]
  },
  {
   "cell_type": "markdown",
   "metadata": {},
   "source": [
    "## Imports\n"
   ]
  },
  {
   "cell_type": "code",
   "execution_count": 2,
   "metadata": {},
   "outputs": [],
   "source": [
    "import numpy as np\n",
    "import matplotlib.pyplot as plt\n",
    "import pandas as pd\n",
    "import seaborn as sns\n",
    "from scipy import stats\n",
    "import plotly.express as px\n",
    "from geopy.geocoders import Nominatim\n",
    "import geopy as gp\n",
    "from datetime import datetime\n",
    "from glob import glob\n"
   ]
  },
  {
   "cell_type": "markdown",
   "metadata": {},
   "source": [
    "## Data\n"
   ]
  },
  {
   "cell_type": "code",
   "execution_count": 4,
   "metadata": {},
   "outputs": [],
   "source": [
    "filenames = glob('/Users/aleia/dev/Impacts /Project-Impact-2020/data/IMO/data/*.csv')\n",
    "imo9920 = pd.concat([pd.read_csv(f,  sep=';') for f in filenames], ignore_index=True)"
   ]
  },
  {
   "cell_type": "markdown",
   "metadata": {},
   "source": [
    "## Preprocessing"
   ]
  },
  {
   "cell_type": "code",
   "execution_count": 7,
   "metadata": {},
   "outputs": [],
   "source": [
    "imo9920.to_csv('IMO9920.csv', index = False)\n"
   ]
  },
  {
   "cell_type": "markdown",
   "metadata": {},
   "source": [
    "## EDA"
   ]
  },
  {
   "cell_type": "code",
   "execution_count": 5,
   "metadata": {},
   "outputs": [
    {
     "name": "stdout",
     "output_type": "stream",
     "text": [
      "(42989, 11) \n",
      "\n",
      "Session ID                int64\n",
      "Start Date               object\n",
      "Observer ID             float64\n",
      "Submitter ID              int64\n",
      "Actual Observer Name     object\n",
      "Submitted by             object\n",
      "City                     object\n",
      "Country                  object\n",
      "Latitude                float64\n",
      "Longitude               float64\n",
      "Elevation               float64\n",
      "dtype: object \n",
      "\n",
      "<bound method NDFrame.describe of        Session ID           Start Date  Observer ID  Submitter ID  \\\n",
      "0             162  2008-12-19 09:08:00        283.0           283   \n",
      "1             163  2008-12-22 05:20:00        283.0           283   \n",
      "2             164  2008-12-31 10:47:00        283.0           283   \n",
      "3             311  2008-08-11 21:50:00        630.0           630   \n",
      "4             918  2008-08-11 23:00:00        710.0           710   \n",
      "...           ...                  ...          ...           ...   \n",
      "42984       75686  2005-01-10 13:15:00       7956.0          7956   \n",
      "42985       75687  2005-01-13 13:00:00       7956.0          7956   \n",
      "42986       75691  2005-07-29 11:10:00       7956.0          7956   \n",
      "42987       75692  2005-07-30 14:55:00       7956.0          7956   \n",
      "42988       78769  2005-03-09 19:37:00       1651.0          1651   \n",
      "\n",
      "      Actual Observer Name      Submitted by                  City    Country  \\\n",
      "0         Salvador Aguirre  Salvador Aguirre  Ej. El Carmen, Sonor     Mexico   \n",
      "1         Salvador Aguirre  Salvador Aguirre  Ej. El Carmen, Sonor     Mexico   \n",
      "2         Salvador Aguirre  Salvador Aguirre  Ej. El Carmen, Sonor     Mexico   \n",
      "3          Reyhane Akhbari   Reyhane Akhbari           Hesar Sorkh       Iran   \n",
      "4           Igor Arolovich    Igor Arolovich         Mount Tayasim     Israel   \n",
      "...                    ...               ...                   ...        ...   \n",
      "42984           Adam Marsh        Adam Marsh    Pakenham, Victoria  Australia   \n",
      "42985           Adam Marsh        Adam Marsh    Pakenham, Victoria  Australia   \n",
      "42986           Adam Marsh        Adam Marsh            Ladys Pass  Australia   \n",
      "42987           Adam Marsh        Adam Marsh            Ladys Pass  Australia   \n",
      "42988       Jaroslaw Dygos    Jaroslaw Dygos       Czernice Borowe     Poland   \n",
      "\n",
      "        Latitude   Longitude  Elevation  \n",
      "0      29.319444 -110.822778        0.0  \n",
      "1      29.319444 -110.822778        0.0  \n",
      "2      29.319444 -110.822778        0.0  \n",
      "3      36.005556   58.321111        0.0  \n",
      "4      31.766667   35.083333        0.0  \n",
      "...          ...         ...        ...  \n",
      "42984 -38.000000  145.000000      100.0  \n",
      "42985 -38.000000  145.000000      100.0  \n",
      "42986 -36.816110  144.680991      233.0  \n",
      "42987 -36.816110  144.680991      233.0  \n",
      "42988  53.033333   20.716667      150.0  \n",
      "\n",
      "[42989 rows x 11 columns]> \n",
      "\n",
      "<class 'pandas.core.frame.DataFrame'> \n",
      "\n",
      "Index(['Session ID', 'Start Date', 'Observer ID', 'Submitter ID',\n",
      "       'Actual Observer Name', 'Submitted by', 'City', 'Country', 'Latitude',\n",
      "       'Longitude', 'Elevation'],\n",
      "      dtype='object')\n"
     ]
    }
   ],
   "source": [
    "print(imo9920.shape, '\\n')\n",
    "print(imo9920.dtypes, '\\n')\n",
    "print(imo9920.describe, '\\n')\n",
    "print (type(imo9920), '\\n')\n",
    "print(imo9920.columns)\n"
   ]
  },
  {
   "cell_type": "code",
   "execution_count": 24,
   "metadata": {},
   "outputs": [
    {
     "data": {
      "text/plain": [
       "<matplotlib.axes._subplots.AxesSubplot at 0x110961790>"
      ]
     },
     "execution_count": 24,
     "metadata": {},
     "output_type": "execute_result"
    },
    {
     "data": {
      "image/png": "[encoded data removed]",
      "text/plain": [
       "<Figure size 432x288 with 2 Axes>"
      ]
     },
     "metadata": {
      "needs_background": "light"
     },
     "output_type": "display_data"
    }
   ],
   "source": [
    "sns.heatmap(imo9920.corr())"
   ]
  },
  {
   "cell_type": "code",
   "execution_count": null,
   "metadata": {},
   "outputs": [],
   "source": []
  }
 ],
 "metadata": {
  "kernelspec": {
   "display_name": "Python 3",
   "language": "python",
   "name": "python3"
  },
  "language_info": {
   "codemirror_mode": {
    "name": "ipython",
    "version": 3
   },
   "file_extension": ".py",
   "mimetype": "text/x-python",
   "name": "python",
   "nbconvert_exporter": "python",
   "pygments_lexer": "ipython3",
   "version": "3.7.6"
  }
 },
 "nbformat": 4,
 "nbformat_minor": 4
}
